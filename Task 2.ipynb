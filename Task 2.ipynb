{
 "cells": [
  {
   "cell_type": "code",
   "execution_count": 1,
   "id": "1254fc3b-8672-41fb-b192-ceb5a3fc7c71",
   "metadata": {},
   "outputs": [
    {
     "name": "stdout",
     "output_type": "stream",
     "text": [
      "Defaulting to user installation because normal site-packages is not writeable\n",
      "Requirement already satisfied: SpeechRecognition in c:\\users\\user\\appdata\\roaming\\python\\python311\\site-packages (3.10.4)\n",
      "Requirement already satisfied: requests>=2.26.0 in c:\\programdata\\anaconda3\\lib\\site-packages (from SpeechRecognition) (2.31.0)\n",
      "Requirement already satisfied: typing-extensions in c:\\users\\user\\appdata\\roaming\\python\\python311\\site-packages (from SpeechRecognition) (4.12.2)\n",
      "Requirement already satisfied: charset-normalizer<4,>=2 in c:\\programdata\\anaconda3\\lib\\site-packages (from requests>=2.26.0->SpeechRecognition) (2.0.4)\n",
      "Requirement already satisfied: idna<4,>=2.5 in c:\\programdata\\anaconda3\\lib\\site-packages (from requests>=2.26.0->SpeechRecognition) (3.4)\n",
      "Requirement already satisfied: urllib3<3,>=1.21.1 in c:\\programdata\\anaconda3\\lib\\site-packages (from requests>=2.26.0->SpeechRecognition) (2.0.7)\n",
      "Requirement already satisfied: certifi>=2017.4.17 in c:\\programdata\\anaconda3\\lib\\site-packages (from requests>=2.26.0->SpeechRecognition) (2024.2.2)\n"
     ]
    }
   ],
   "source": [
    "!pip install SpeechRecognition"
   ]
  },
  {
   "cell_type": "code",
   "execution_count": 2,
   "id": "9cf86c4b-39ab-41a8-a312-092aa5ebfa3a",
   "metadata": {},
   "outputs": [],
   "source": [
    "import webbrowser  "
   ]
  },
  {
   "cell_type": "code",
   "execution_count": 7,
   "id": "3f6d28fc-e5fd-4240-98c0-92e567be0a00",
   "metadata": {},
   "outputs": [
    {
     "name": "stdout",
     "output_type": "stream",
     "text": [
      "Ambient noise adjustment... Wait...\n",
      "You can talk...\n",
      "Registration complete !\n",
      "Text recognition...\n",
      "You said : power bi\n"
     ]
    }
   ],
   "source": [
    "from speech_recognition import Recognizer, Microphone\n",
    "recognizer = Recognizer()\n",
    "# We record the sound\n",
    "\n",
    "def google_search(query):  \n",
    "    url = f\"https://www.google.com/search?q={query}\"  \n",
    "    webbrowser.open_new_tab(url) \n",
    "\n",
    "with Microphone() as source:\n",
    "    print(\"Ambient noise adjustment... Wait...\")\n",
    "    recognizer.adjust_for_ambient_noise(source)\n",
    "    print(\"You can talk...\")\n",
    "    recorded_audio = recognizer.listen(source)\n",
    "    print(\"Registration complete !\")\n",
    "    \n",
    "# Audio recognition\n",
    "try:\n",
    "    print(\"Text recognition...\")\n",
    "    text = recognizer.recognize_google(\n",
    "            recorded_audio, \n",
    "            language=\"fr-FR\"\n",
    "        )\n",
    "    \n",
    "    print(\"You said : {}\".format(text))\n",
    "\n",
    "    query = text \n",
    "    google_search(text)\n",
    "    \n",
    "except Exception as ex:\n",
    "    print(ex)"
   ]
  },
  {
   "cell_type": "code",
   "execution_count": null,
   "id": "7383337b-0412-4c56-a2f8-23edbc0f7193",
   "metadata": {},
   "outputs": [],
   "source": []
  },
  {
   "cell_type": "code",
   "execution_count": null,
   "id": "d29855c0-4392-40d0-b1d7-2739fbbcb600",
   "metadata": {},
   "outputs": [],
   "source": []
  }
 ],
 "metadata": {
  "kernelspec": {
   "display_name": "Python 3 (ipykernel)",
   "language": "python",
   "name": "python3"
  },
  "language_info": {
   "codemirror_mode": {
    "name": "ipython",
    "version": 3
   },
   "file_extension": ".py",
   "mimetype": "text/x-python",
   "name": "python",
   "nbconvert_exporter": "python",
   "pygments_lexer": "ipython3",
   "version": "3.11.7"
  }
 },
 "nbformat": 4,
 "nbformat_minor": 5
}
