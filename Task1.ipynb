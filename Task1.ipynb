{
 "cells": [
  {
   "cell_type": "markdown",
   "id": "6f6ae6b6-dc2d-43f2-ac44-a5494dc6743c",
   "metadata": {},
   "source": [
    "TASK 1\r\n",
    " FIBONACCI GENERAT R\r\n",
    " The Fibonacci series is a sequence where each number \n",
    " s\r\n",
    " the sum of the two preceding numbers, defined b\n",
    "  a\r\n",
    " mathematical recurrence relationship"
   ]
  },
  {
   "cell_type": "code",
   "execution_count": 21,
   "id": "64a6daf0-f73f-4bf3-85a3-221aff04f0ce",
   "metadata": {},
   "outputs": [],
   "source": [
    "#check if a variable is an integer or not\n",
    "def verif_number(l):\n",
    "    if l.isdigit() :\n",
    "        return True\n",
    "    else :\n",
    "        return False"
   ]
  },
  {
   "cell_type": "code",
   "execution_count": 50,
   "id": "6496e6de-ab9a-49b3-bcc6-66c661aadfbb",
   "metadata": {},
   "outputs": [],
   "source": [
    "def FIBONACCI_list(k):  \n",
    "    serie1 = [0, 1]  \n",
    "    i = 2  \n",
    "    try:  \n",
    "        if int(k) <= 0:  \n",
    "            raise ValueError(\"Please enter a positive integer\")\n",
    "        if verif_number(k) == False:  \n",
    "            raise ValueError(\"Please enter a whole number not an object\")  \n",
    "          \n",
    "        while True:  \n",
    "            serie1.append(serie1[i-2] + serie1[i-1])  \n",
    "            i += 1  \n",
    "            if i == int(k):  \n",
    "                break  \n",
    "        print(serie1)  \n",
    "\n",
    "    except ValueError as e:  \n",
    "        print(f\"Error: {e}\")  \n",
    "\n",
    "def verif_number(l):  \n",
    "    if l.isdigit():  \n",
    "        return True  \n",
    "    else:  \n",
    "        return False  "
   ]
  },
  {
   "cell_type": "code",
   "execution_count": 56,
   "id": "340758ac-9986-40ad-b086-7f90d28be0b9",
   "metadata": {},
   "outputs": [
    {
     "name": "stdin",
     "output_type": "stream",
     "text": [
      "Enter the number of terms for the Fibonacci series : \n",
      " str1\n"
     ]
    },
    {
     "name": "stdout",
     "output_type": "stream",
     "text": [
      "Error: invalid literal for int() with base 10: 'str1'\n"
     ]
    }
   ],
   "source": [
    "k = input(\"Enter the number of terms for the Fibonacci series : \\n\")  \n",
    "FIBONACCI_list(k)"
   ]
  }
 ],
 "metadata": {
  "kernelspec": {
   "display_name": "Python 3 (ipykernel)",
   "language": "python",
   "name": "python3"
  },
  "language_info": {
   "codemirror_mode": {
    "name": "ipython",
    "version": 3
   },
   "file_extension": ".py",
   "mimetype": "text/x-python",
   "name": "python",
   "nbconvert_exporter": "python",
   "pygments_lexer": "ipython3",
   "version": "3.11.7"
  }
 },
 "nbformat": 4,
 "nbformat_minor": 5
}
